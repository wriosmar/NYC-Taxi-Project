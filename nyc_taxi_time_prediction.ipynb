{
 "cells": [
  {
   "cell_type": "markdown",
   "id": "5666866f",
   "metadata": {},
   "source": [
    "# Introduction\n",
    "\n",
    "The goal of this project is to predict the trip duration of any given taxi ride. We will be taking into consideration various data points including: distance, pickup & drop-off location, month & time of day, and number of passangers. This is useful to both users and taxi companies to know and understand the different factors in how long a taxi ride will take. \n",
    "\n",
    "We will be analyzing two machine learning models and comparing their results to find an optimal model. The models used are:\n",
    "- [Random Forest Regression](#random-forest-regression)\n",
    "- [Gradient Boosting Model (XGBoost)](#gradient-boosting-model-xgboost)"
   ]
  },
  {
   "cell_type": "markdown",
   "id": "7fae0d12",
   "metadata": {},
   "source": [
    "# The Data"
   ]
  },
  {
   "cell_type": "markdown",
   "id": "836a1a72",
   "metadata": {},
   "source": [
    "# Cleaning the Data\n",
    "\n",
    "- Single out hour in time. We don't need the exact minute and seconds just an estimated hour. (Maybe round up or down depending on 30min mark?)\n",
    "- Sinlgle out day (?)\n",
    "- Single out month\n",
    "- Group pickup into origin\n",
    "- Group dropoff into destination\n",
    "- Get Distance"
   ]
  },
  {
   "cell_type": "code",
   "execution_count": 3,
   "id": "52a9257d",
   "metadata": {},
   "outputs": [],
   "source": [
    "import numpy as np\n",
    "import matplotlib.pyplot as plt\n",
    "import pandas as pd\n",
    "import seaborn as sns"
   ]
  },
  {
   "cell_type": "markdown",
   "id": "c0fd74af",
   "metadata": {},
   "source": [
    "# Getting the Manhattan Distance\n",
    "\n",
    "New York is designed with grid-like road layouts, thus we can use the Manhattan Distance formula to get an approximate distance between the point of origin and the destination a taxi might take. \n",
    "\n",
    "### The Manhattan Distance(in miles) is as follows: \n",
    "\n",
    "Let two points be:\n",
    "\n",
    "- (phi1, lambda1): latitude and longitude of the origin(pickup) point.\n",
    "- (phi2, lambda2): latitude and longitude of the destination(drop-off) point.\n",
    "\n",
    "Approximation for Conversion to Miles:\n",
    "- 1 degree of latitude ≈ 69.0 miles.\n",
    "- 1 degree of longitude ≈ 69.0 × cos(phi_avg) miles, where phi_avg is the average of phi1 and phi2 in degrees.\n",
    "\n",
    "Formula:\n",
    "\n",
    "    manhattan ≈ 69.0 × |phi2 - phi1| + (69.0 × cos((phi1 + phi2) / 2 in degrees)) × |lambda2 - lambda1|\n",
    "\n",
    "Where: \n",
    "- phi1, phi2 are latitudes in degrees\n",
    "- lambda1, lambda2 are longitudes in degrees\n",
    "- cos() uses angle in degrees"
   ]
  },
  {
   "cell_type": "code",
   "execution_count": 2,
   "id": "3937c7d2",
   "metadata": {},
   "outputs": [],
   "source": [
    "def manhattan_distance(lat1, lon1, lat2, lon2):\n",
    "\n",
    "    # Average latitude\n",
    "    avg_lat = (lat1 + lat2) / 2.0\n",
    "    # Approximate conversion factors\n",
    "    lat_miles = 69.0\n",
    "    lon_miles = 69.0 * np.cos(np.radians(avg_lat))\n",
    "\n",
    "    d_lat = abs(lat2 - lat1) * lat_miles\n",
    "    d_lon = abs(lon2 - lon1) * lon_miles\n",
    "\n",
    "    return d_lat + d_lon"
   ]
  },
  {
   "cell_type": "markdown",
   "id": "d7c5e878",
   "metadata": {},
   "source": [
    "# Random Forest Regression"
   ]
  },
  {
   "cell_type": "markdown",
   "id": "9366a2c9",
   "metadata": {},
   "source": [
    "# Gradient Boosting Model (XGBoost)"
   ]
  },
  {
   "cell_type": "markdown",
   "id": "786d5bc7",
   "metadata": {},
   "source": [
    "# Results"
   ]
  }
 ],
 "metadata": {
  "kernelspec": {
   "display_name": "base",
   "language": "python",
   "name": "python3"
  },
  "language_info": {
   "codemirror_mode": {
    "name": "ipython",
    "version": 3
   },
   "file_extension": ".py",
   "mimetype": "text/x-python",
   "name": "python",
   "nbconvert_exporter": "python",
   "pygments_lexer": "ipython3",
   "version": "3.11.5"
  }
 },
 "nbformat": 4,
 "nbformat_minor": 5
}
